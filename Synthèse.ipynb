{
 "cells": [
  {
   "cell_type": "markdown",
   "id": "f56abef3",
   "metadata": {},
   "source": [
    "# Reconnaissance des Digits basée sur les enregistrements Audios - Synthèse"
   ]
  },
  {
   "cell_type": "markdown",
   "id": "8131e9cf",
   "metadata": {},
   "source": [
    "### Importer les bibliothéques necessaires "
   ]
  },
  {
   "cell_type": "code",
   "execution_count": 2,
   "id": "874ae24f",
   "metadata": {},
   "outputs": [
    {
     "name": "stderr",
     "output_type": "stream",
     "text": [
      "C:\\Users\\utilisateur\\anaconda3\\envs\\DigitsRecognition_env\\lib\\site-packages\\xgboost\\compat.py:36: FutureWarning: pandas.Int64Index is deprecated and will be removed from pandas in a future version. Use pandas.Index with the appropriate dtype instead.\n",
      "  from pandas import MultiIndex, Int64Index\n"
     ]
    }
   ],
   "source": [
    "import numpy as np\n",
    "import os\n",
    "import matplotlib.pyplot as plt\n",
    "import seaborn as sb\n",
    "import pandas as pd\n",
    "import joblib\n",
    "\n",
    "from Tools.tools import collection\n",
    "\n",
    "from sklearn.model_selection import train_test_split\n",
    "from sklearn.pipeline import Pipeline\n",
    "from sklearn.preprocessing import MinMaxScaler\n",
    "from sklearn.preprocessing import StandardScaler\n",
    "\n",
    "from sklearn.neighbors import KNeighborsClassifier\n",
    "from sklearn.svm import SVC\n",
    "from sklearn.tree import DecisionTreeClassifier\n",
    "from sklearn.ensemble import RandomForestClassifier\n",
    "from sklearn.ensemble import GradientBoostingClassifier\n",
    "from sklearn.neural_network import MLPClassifier\n",
    "from xgboost import XGBClassifier\n",
    "\n",
    "from sklearn.model_selection import GridSearchCV\n",
    "\n",
    "from datetime import datetime\n",
    "\n",
    "from sklearn.metrics import accuracy_score\n",
    "from sklearn.metrics import ConfusionMatrixDisplay\n",
    "from sklearn.metrics import classification_report"
   ]
  },
  {
   "cell_type": "markdown",
   "id": "3cee3c95",
   "metadata": {},
   "source": [
    "### Collection "
   ]
  },
  {
   "cell_type": "code",
   "execution_count": null,
   "id": "ddbcd43e",
   "metadata": {},
   "outputs": [],
   "source": [
    "#collection()"
   ]
  },
  {
   "cell_type": "markdown",
   "id": "070d287d",
   "metadata": {},
   "source": [
    "#### 1. Importer votre DataSet"
   ]
  },
  {
   "cell_type": "code",
   "execution_count": 6,
   "id": "92c0fbc3",
   "metadata": {},
   "outputs": [],
   "source": [
    "mydata = pd.read_csv('./DataSet/'+os.listdir('./DataSet/')[0])"
   ]
  },
  {
   "cell_type": "markdown",
   "id": "4462f6d4",
   "metadata": {},
   "source": [
    "##### Print"
   ]
  },
  {
   "cell_type": "code",
   "execution_count": 7,
   "id": "9298dc51",
   "metadata": {},
   "outputs": [
    {
     "data": {
      "text/html": [
       "<div>\n",
       "<style scoped>\n",
       "    .dataframe tbody tr th:only-of-type {\n",
       "        vertical-align: middle;\n",
       "    }\n",
       "\n",
       "    .dataframe tbody tr th {\n",
       "        vertical-align: top;\n",
       "    }\n",
       "\n",
       "    .dataframe thead th {\n",
       "        text-align: right;\n",
       "    }\n",
       "</style>\n",
       "<table border=\"1\" class=\"dataframe\">\n",
       "  <thead>\n",
       "    <tr style=\"text-align: right;\">\n",
       "      <th></th>\n",
       "      <th>Fe1</th>\n",
       "      <th>Fe2</th>\n",
       "      <th>Fe3</th>\n",
       "      <th>Fe4</th>\n",
       "      <th>Fe5</th>\n",
       "      <th>Fe6</th>\n",
       "      <th>Fe7</th>\n",
       "      <th>Fe8</th>\n",
       "      <th>Fe9</th>\n",
       "      <th>Fe10</th>\n",
       "      <th>Fe11</th>\n",
       "      <th>Fe12</th>\n",
       "      <th>Target</th>\n",
       "    </tr>\n",
       "  </thead>\n",
       "  <tbody>\n",
       "    <tr>\n",
       "      <th>0</th>\n",
       "      <td>9.941398</td>\n",
       "      <td>-24.484889</td>\n",
       "      <td>-1.478570</td>\n",
       "      <td>-7.971703</td>\n",
       "      <td>-2.470608</td>\n",
       "      <td>-8.027298</td>\n",
       "      <td>-3.567422</td>\n",
       "      <td>-5.001823</td>\n",
       "      <td>-2.378043</td>\n",
       "      <td>2.369801</td>\n",
       "      <td>3.967911</td>\n",
       "      <td>1.400145</td>\n",
       "      <td>0.0</td>\n",
       "    </tr>\n",
       "    <tr>\n",
       "      <th>1</th>\n",
       "      <td>9.799164</td>\n",
       "      <td>-31.615510</td>\n",
       "      <td>-4.525482</td>\n",
       "      <td>-11.624347</td>\n",
       "      <td>-3.215132</td>\n",
       "      <td>-6.179778</td>\n",
       "      <td>-0.660283</td>\n",
       "      <td>-2.051269</td>\n",
       "      <td>-1.684845</td>\n",
       "      <td>0.215361</td>\n",
       "      <td>0.768086</td>\n",
       "      <td>-1.691669</td>\n",
       "      <td>1.0</td>\n",
       "    </tr>\n",
       "    <tr>\n",
       "      <th>2</th>\n",
       "      <td>10.119382</td>\n",
       "      <td>-31.544456</td>\n",
       "      <td>-3.194658</td>\n",
       "      <td>-9.001890</td>\n",
       "      <td>-0.731254</td>\n",
       "      <td>-4.902944</td>\n",
       "      <td>-1.061813</td>\n",
       "      <td>-4.255388</td>\n",
       "      <td>-5.261812</td>\n",
       "      <td>-4.463708</td>\n",
       "      <td>-3.450274</td>\n",
       "      <td>-3.169459</td>\n",
       "      <td>2.0</td>\n",
       "    </tr>\n",
       "    <tr>\n",
       "      <th>3</th>\n",
       "      <td>10.354260</td>\n",
       "      <td>-29.990822</td>\n",
       "      <td>-2.728523</td>\n",
       "      <td>-10.392988</td>\n",
       "      <td>-4.091374</td>\n",
       "      <td>-9.489000</td>\n",
       "      <td>-3.767187</td>\n",
       "      <td>-2.098165</td>\n",
       "      <td>0.520167</td>\n",
       "      <td>2.767215</td>\n",
       "      <td>3.634315</td>\n",
       "      <td>-0.445441</td>\n",
       "      <td>3.0</td>\n",
       "    </tr>\n",
       "    <tr>\n",
       "      <th>4</th>\n",
       "      <td>9.814093</td>\n",
       "      <td>-32.553753</td>\n",
       "      <td>-7.042249</td>\n",
       "      <td>-11.538412</td>\n",
       "      <td>-3.070324</td>\n",
       "      <td>-8.158254</td>\n",
       "      <td>-1.606384</td>\n",
       "      <td>-3.610648</td>\n",
       "      <td>-4.453116</td>\n",
       "      <td>-3.432150</td>\n",
       "      <td>-0.601025</td>\n",
       "      <td>0.597645</td>\n",
       "      <td>4.0</td>\n",
       "    </tr>\n",
       "  </tbody>\n",
       "</table>\n",
       "</div>"
      ],
      "text/plain": [
       "         Fe1        Fe2       Fe3        Fe4       Fe5       Fe6       Fe7  \\\n",
       "0   9.941398 -24.484889 -1.478570  -7.971703 -2.470608 -8.027298 -3.567422   \n",
       "1   9.799164 -31.615510 -4.525482 -11.624347 -3.215132 -6.179778 -0.660283   \n",
       "2  10.119382 -31.544456 -3.194658  -9.001890 -0.731254 -4.902944 -1.061813   \n",
       "3  10.354260 -29.990822 -2.728523 -10.392988 -4.091374 -9.489000 -3.767187   \n",
       "4   9.814093 -32.553753 -7.042249 -11.538412 -3.070324 -8.158254 -1.606384   \n",
       "\n",
       "        Fe8       Fe9      Fe10      Fe11      Fe12  Target  \n",
       "0 -5.001823 -2.378043  2.369801  3.967911  1.400145     0.0  \n",
       "1 -2.051269 -1.684845  0.215361  0.768086 -1.691669     1.0  \n",
       "2 -4.255388 -5.261812 -4.463708 -3.450274 -3.169459     2.0  \n",
       "3 -2.098165  0.520167  2.767215  3.634315 -0.445441     3.0  \n",
       "4 -3.610648 -4.453116 -3.432150 -0.601025  0.597645     4.0  "
      ]
     },
     "execution_count": 7,
     "metadata": {},
     "output_type": "execute_result"
    }
   ],
   "source": [
    "mydata.head()"
   ]
  },
  {
   "cell_type": "markdown",
   "id": "fb771cf2",
   "metadata": {},
   "source": [
    "#### 2. Checker les variables quantitatives/qualitatives et les valeurs manquantes "
   ]
  },
  {
   "cell_type": "code",
   "execution_count": 5,
   "id": "cc96909d",
   "metadata": {},
   "outputs": [
    {
     "name": "stdout",
     "output_type": "stream",
     "text": [
      "<class 'pandas.core.frame.DataFrame'>\n",
      "RangeIndex: 100 entries, 0 to 99\n",
      "Data columns (total 13 columns):\n",
      " #   Column  Non-Null Count  Dtype  \n",
      "---  ------  --------------  -----  \n",
      " 0   Fe1     100 non-null    float64\n",
      " 1   Fe2     100 non-null    float64\n",
      " 2   Fe3     100 non-null    float64\n",
      " 3   Fe4     100 non-null    float64\n",
      " 4   Fe5     100 non-null    float64\n",
      " 5   Fe6     100 non-null    float64\n",
      " 6   Fe7     100 non-null    float64\n",
      " 7   Fe8     100 non-null    float64\n",
      " 8   Fe9     100 non-null    float64\n",
      " 9   Fe10    100 non-null    float64\n",
      " 10  Fe11    100 non-null    float64\n",
      " 11  Fe12    100 non-null    float64\n",
      " 12  Target  100 non-null    float64\n",
      "dtypes: float64(13)\n",
      "memory usage: 10.3 KB\n"
     ]
    }
   ],
   "source": [
    "mydata.info()"
   ]
  },
  {
   "cell_type": "markdown",
   "id": "a2834974",
   "metadata": {},
   "source": [
    "#### 3. Visualiser les targets"
   ]
  },
  {
   "cell_type": "code",
   "execution_count": 7,
   "id": "aec24861",
   "metadata": {},
   "outputs": [
    {
     "data": {
      "image/png": "[encoded data removed]",
      "text/plain": [
       "<Figure size 432x288 with 1 Axes>"
      ]
     },
     "metadata": {
      "needs_background": "light"
     },
     "output_type": "display_data"
    }
   ],
   "source": [
    "plt.plot(mydata[mydata.columns[-1]]);"
   ]
  },
  {
   "cell_type": "markdown",
   "id": "85a34150",
   "metadata": {},
   "source": [
    "#### 4. Notre variable target (Y) est 'Target', Récuprer X et y à partir du jeu de données "
   ]
  },
  {
   "cell_type": "code",
   "execution_count": 8,
   "id": "8602c3d6",
   "metadata": {},
   "outputs": [
    {
     "data": {
      "text/plain": [
       "(100, 12)"
      ]
     },
     "execution_count": 8,
     "metadata": {},
     "output_type": "execute_result"
    }
   ],
   "source": [
    "y = mydata['Target']\n",
    "X = mydata.iloc[:,:-1]\n",
    "X.shape"
   ]
  },
  {
   "cell_type": "markdown",
   "id": "ae52af1a",
   "metadata": {},
   "source": [
    "#### 5. Diviser la DataSet en donneés d'apprentissage et de test (20% pour le test)"
   ]
  },
  {
   "cell_type": "code",
   "execution_count": 9,
   "id": "cf43c4d3",
   "metadata": {},
   "outputs": [
    {
     "name": "stdout",
     "output_type": "stream",
     "text": [
      "<class 'pandas.core.series.Series'>\n",
      "Int64Index: 20 entries, 83 to 31\n",
      "Series name: Target\n",
      "Non-Null Count  Dtype  \n",
      "--------------  -----  \n",
      "20 non-null     float64\n",
      "dtypes: float64(1)\n",
      "memory usage: 320.0 bytes\n"
     ]
    }
   ],
   "source": [
    "X_train, X_test, y_train, y_test = train_test_split(X, y, test_size=0.2, random_state=42)\n",
    "y_test.info()"
   ]
  },
  {
   "cell_type": "markdown",
   "id": "f2629c96",
   "metadata": {},
   "source": [
    "#### 6. Développer votre meilleur modèle de classification"
   ]
  },
  {
   "cell_type": "markdown",
   "id": "0a44f8f1",
   "metadata": {},
   "source": [
    "##### 1. Mise en place des pipelines"
   ]
  },
  {
   "cell_type": "code",
   "execution_count": 10,
   "id": "e1bb4672",
   "metadata": {},
   "outputs": [],
   "source": [
    "pipeKNN = Pipeline([('minmax', MinMaxScaler()),\n",
    "                    ('scaler', StandardScaler()),\n",
    "                    ('knn', KNeighborsClassifier())])\n",
    "\n",
    "pipeSVC = Pipeline([('minmax', MinMaxScaler()),\n",
    "                    ('scaler', StandardScaler()),\n",
    "                    ('svc', SVC())])\n",
    "\n",
    "pipeDecisionTree = Pipeline([   ('minmax', MinMaxScaler()),\n",
    "                                ('scaler', StandardScaler()),\n",
    "                                ('decisionTree', DecisionTreeClassifier())])\n",
    "\n",
    "pipeRandomForest = Pipeline([   ('minmax', MinMaxScaler()),\n",
    "                                ('scaler', StandardScaler()),\n",
    "                                 ('randomForest', RandomForestClassifier())])\n",
    "\n",
    "pipeGradientBoosting = Pipeline([   ('minmax', MinMaxScaler()),\n",
    "                                    ('scaler', StandardScaler()),\n",
    "                                    ('gradientBoost', GradientBoostingClassifier())])\n",
    "\n",
    "pipeMLP = Pipeline([('minmax', MinMaxScaler()),\n",
    "                    ('scaler', StandardScaler()),\n",
    "                    ('mlp', MLPClassifier())])\n",
    "                 \n",
    "pipeXBG = Pipeline([('minmax', MinMaxScaler()),\n",
    "                    ('scaler', StandardScaler()),\n",
    "                    ('xgb', XGBClassifier())])\n",
    "\n",
    "classifierList = [pipeKNN, pipeSVC, pipeDecisionTree, pipeRandomForest, pipeGradientBoosting, pipeMLP, pipeXBG]"
   ]
  },
  {
   "cell_type": "markdown",
   "id": "32ebb400",
   "metadata": {},
   "source": [
    "##### 2. Paramétrage des estimateurs"
   ]
  },
  {
   "cell_type": "code",
   "execution_count": 11,
   "id": "afb68f3d",
   "metadata": {},
   "outputs": [],
   "source": [
    "# KNN\n",
    "knnNeighbors = range(1, 5)\n",
    "knnMetrics = [\"euclidean\", \"manhattan\", \"minkowski\"]\n",
    "knnP = range(1, 5)\n",
    "paramKNN = dict(knn__n_neighbors = knnNeighbors, \n",
    "                knn__metric = knnMetrics)\n",
    "\n",
    "# SVM\n",
    "svcKernel = [\"linear\", \"poly\", \"rbf\", \"sigmoid\"]\n",
    "svcDegree = range(1, 10)\n",
    "svcGamma = [\"scale\", \"auto\"]\n",
    "paramSVC = dict(svc__kernel = svcKernel, \n",
    "                svc__degree = svcDegree, \n",
    "                svc__gamma = svcGamma)\n",
    "\n",
    "# Decision Tree\n",
    "decisionTreeCriterion = [\"gini\", \"entropy\"]\n",
    "decisionTreeSplitter = [\"best\", \"random\"]\n",
    "decisionTreeMaxFeatures = [\"sqrt\", \"log2\", None]\n",
    "decisionTreeRandomState = [42]\n",
    "paramDecisionTree = dict(   decisionTree__criterion = decisionTreeCriterion, \n",
    "                            decisionTree__splitter = decisionTreeSplitter, \n",
    "                            decisionTree__max_features = decisionTreeMaxFeatures, \n",
    "                            decisionTree__random_state=decisionTreeRandomState)\n",
    "\n",
    "# Random Forest\n",
    "randomForestRandomState = [42]\n",
    "randomForestMaxFeatures = [\"sqrt\", \"log2\", None]\n",
    "paramRandomForest = dict(   randomForest__criterion = decisionTreeCriterion, \n",
    "                            randomForest__max_features=randomForestMaxFeatures, \n",
    "                            randomForest__random_state=randomForestRandomState)\n",
    "\n",
    "# Gradient Boosting\n",
    "gradientBoostingLoss = [\"deviance\"]\n",
    "gradientBoostingCriterion = [\"friedman_mse\", \"squared_error\"]\n",
    "gradientBoostingRandomState = [42]\n",
    "gradientBoostingMaxfeatures = [\"sqrt\", \"log2\", None]\n",
    "paramGradientBoosting = dict(   gradientBoost__criterion=gradientBoostingCriterion, \n",
    "                                gradientBoost__loss=gradientBoostingLoss, \n",
    "                                gradientBoost__max_features=gradientBoostingMaxfeatures,\n",
    "                                gradientBoost__random_state=gradientBoostingRandomState)\n",
    "\n",
    "# MLP\n",
    "mlpActivation = [\"identity\", \"logistic\",\"tanh\", \"relu\"]\n",
    "mlpSolver = [\"lbfgs\", \"sgd\", \"adam\"]\n",
    "mlpLearningRate = [\"constant\", \"invscaling\", \"adaptive\"]\n",
    "mlpHiddenLayerSizes = [(1,),(2,),(3,),(4,),(5,)]\n",
    "mlpRandomState = [42]\n",
    "mlpMaxIter = [1000]\n",
    "paramMLP = dict(mlp__activation=mlpActivation,\n",
    "                mlp__solver=mlpSolver,\n",
    "                mlp__learning_rate=mlpLearningRate,\n",
    "                mlp__hidden_layer_sizes=mlpHiddenLayerSizes,\n",
    "                mlp__max_iter=mlpMaxIter,\n",
    "                mlp__random_state=mlpRandomState)\n",
    "                 \n",
    "# XBG\n",
    "xgbBooster=[\"gbtree\", \"gblinear\", \"dart\"]\n",
    "xgbNEstimator=[10, 100]\n",
    "xgbLabelEncoder=[False]\n",
    "xgbEvalMetric=[\"mlogloss\"]\n",
    "paramXBG = dict(xgb__booster=xgbBooster,\n",
    "                xgb__n_estimators=xgbNEstimator,\n",
    "                xgb__use_label_encoder=xgbLabelEncoder,\n",
    "                xgb__eval_metric=xgbEvalMetric)\n",
    "\n",
    "paramList = [paramKNN, paramSVC, paramDecisionTree, paramRandomForest, paramGradientBoosting, paramMLP, paramXBG]"
   ]
  },
  {
   "cell_type": "markdown",
   "id": "485aabf2",
   "metadata": {},
   "source": [
    "##### 3. Choix des meilleurs hyperparamètres"
   ]
  },
  {
   "cell_type": "code",
   "execution_count": 12,
   "id": "d8bcec99",
   "metadata": {},
   "outputs": [],
   "source": [
    "def bestParam(X, y, pipe:Pipeline, param:dict):\n",
    "    grid = GridSearchCV(pipe, param_grid=param, scoring=\"accuracy\", cv=3)\n",
    "    grid_search = grid.fit(X, y)\n",
    "    param_grid = grid_search.best_params_\n",
    "    score_grid = grid_search.best_score_\n",
    "\n",
    "    return param_grid, score_grid"
   ]
  },
  {
   "cell_type": "markdown",
   "id": "1bc0e8d4",
   "metadata": {},
   "source": [
    "L'estimateur ```MLP``` n'étant pas forcément bien compris, lors de l'évaluation des hyperparamètres avec la fonction ```bestParam```, l'avertissement suivant est affiché : \n",
    "```bash\n",
    "ConvergenceWarning: lbfgs failed to converge (status=1):\n",
    "STOP: TOTAL NO. of ITERATIONS REACHED LIMIT.\n",
    "```\n",
    "\n",
    "Afin d'éviter cela, l'exécution de la cellule ci-dessous permet d'ignorer tous les prochains avertissements."
   ]
  },
  {
   "cell_type": "code",
   "execution_count": 13,
   "id": "3535f68c",
   "metadata": {},
   "outputs": [],
   "source": [
    "import warnings\n",
    "warnings.filterwarnings('ignore')"
   ]
  },
  {
   "cell_type": "code",
   "execution_count": 14,
   "id": "d8f99e61",
   "metadata": {},
   "outputs": [
    {
     "name": "stdout",
     "output_type": "stream",
     "text": [
      "KNeighborsClassifier()\n",
      "{'knn__metric': 'euclidean', 'knn__n_neighbors': 1}\n",
      "0.8380816714150048\n",
      "-----------------\n",
      "SVC()\n",
      "{'svc__degree': 1, 'svc__gamma': 'scale', 'svc__kernel': 'linear'}\n",
      "0.8879392212725546\n",
      "-----------------\n",
      "DecisionTreeClassifier()\n",
      "{'decisionTree__criterion': 'gini', 'decisionTree__max_features': None, 'decisionTree__random_state': 42, 'decisionTree__splitter': 'best'}\n",
      "0.6253561253561254\n",
      "-----------------\n",
      "RandomForestClassifier()\n",
      "{'randomForest__criterion': 'gini', 'randomForest__max_features': 'sqrt', 'randomForest__random_state': 42}\n",
      "0.8266856600189935\n",
      "-----------------\n",
      "GradientBoostingClassifier()\n",
      "{'gradientBoost__criterion': 'friedman_mse', 'gradientBoost__loss': 'deviance', 'gradientBoost__max_features': 'sqrt', 'gradientBoost__random_state': 42}\n",
      "0.7630579297245964\n",
      "-----------------\n",
      "MLPClassifier()\n",
      "{'mlp__activation': 'identity', 'mlp__hidden_layer_sizes': (3,), 'mlp__learning_rate': 'constant', 'mlp__max_iter': 1000, 'mlp__random_state': 42, 'mlp__solver': 'adam'}\n",
      "0.8499525166191834\n",
      "-----------------\n",
      "XGBClassifier(base_score=None, booster=None, colsample_bylevel=None,\n",
      "              colsample_bynode=None, colsample_bytree=None,\n",
      "              enable_categorical=False, gamma=None, gpu_id=None,\n",
      "              importance_type=None, interaction_constraints=None,\n",
      "              learning_rate=None, max_delta_step=None, max_depth=None,\n",
      "              min_child_weight=None, missing=nan, monotone_constraints=None,\n",
      "              n_estimators=100, n_jobs=None, num_parallel_tree=None,\n",
      "              predictor=None, random_state=None, reg_alpha=None,\n",
      "              reg_lambda=None, scale_pos_weight=None, subsample=None,\n",
      "              tree_method=None, validate_parameters=None, verbosity=None)\n",
      "[23:17:30] WARNING: C:/Users/Administrator/workspace/xgboost-win64_release_1.5.1/src/learner.cc:576: \n",
      "Parameters: { \"tree_method\" } might not be used.\n",
      "\n",
      "  This could be a false alarm, with some parameters getting used by language bindings but\n",
      "  then being mistakenly passed down to XGBoost core, or some parameter actually being used\n",
      "  but getting flagged wrongly here. Please open an issue if you find any such cases.\n",
      "\n",
      "\n",
      "[23:17:30] WARNING: C:/Users/Administrator/workspace/xgboost-win64_release_1.5.1/src/learner.cc:576: \n",
      "Parameters: { \"tree_method\" } might not be used.\n",
      "\n",
      "  This could be a false alarm, with some parameters getting used by language bindings but\n",
      "  then being mistakenly passed down to XGBoost core, or some parameter actually being used\n",
      "  but getting flagged wrongly here. Please open an issue if you find any such cases.\n",
      "\n",
      "\n",
      "[23:17:31] WARNING: C:/Users/Administrator/workspace/xgboost-win64_release_1.5.1/src/learner.cc:576: \n",
      "Parameters: { \"tree_method\" } might not be used.\n",
      "\n",
      "  This could be a false alarm, with some parameters getting used by language bindings but\n",
      "  then being mistakenly passed down to XGBoost core, or some parameter actually being used\n",
      "  but getting flagged wrongly here. Please open an issue if you find any such cases.\n",
      "\n",
      "\n",
      "[23:17:31] WARNING: C:/Users/Administrator/workspace/xgboost-win64_release_1.5.1/src/learner.cc:576: \n",
      "Parameters: { \"tree_method\" } might not be used.\n",
      "\n",
      "  This could be a false alarm, with some parameters getting used by language bindings but\n",
      "  then being mistakenly passed down to XGBoost core, or some parameter actually being used\n",
      "  but getting flagged wrongly here. Please open an issue if you find any such cases.\n",
      "\n",
      "\n",
      "[23:17:31] WARNING: C:/Users/Administrator/workspace/xgboost-win64_release_1.5.1/src/learner.cc:576: \n",
      "Parameters: { \"tree_method\" } might not be used.\n",
      "\n",
      "  This could be a false alarm, with some parameters getting used by language bindings but\n",
      "  then being mistakenly passed down to XGBoost core, or some parameter actually being used\n",
      "  but getting flagged wrongly here. Please open an issue if you find any such cases.\n",
      "\n",
      "\n",
      "[23:17:31] WARNING: C:/Users/Administrator/workspace/xgboost-win64_release_1.5.1/src/learner.cc:576: \n",
      "Parameters: { \"tree_method\" } might not be used.\n",
      "\n",
      "  This could be a false alarm, with some parameters getting used by language bindings but\n",
      "  then being mistakenly passed down to XGBoost core, or some parameter actually being used\n",
      "  but getting flagged wrongly here. Please open an issue if you find any such cases.\n",
      "\n",
      "\n",
      "[23:17:37] WARNING: C:/Users/Administrator/workspace/xgboost-win64_release_1.5.1/src/learner.cc:576: \n",
      "Parameters: { \"tree_method\" } might not be used.\n",
      "\n",
      "  This could be a false alarm, with some parameters getting used by language bindings but\n",
      "  then being mistakenly passed down to XGBoost core, or some parameter actually being used\n",
      "  but getting flagged wrongly here. Please open an issue if you find any such cases.\n",
      "\n",
      "\n",
      "{'xgb__booster': 'gblinear', 'xgb__eval_metric': 'mlogloss', 'xgb__n_estimators': 10, 'xgb__tree_method': 'auto', 'xgb__use_label_encoder': False}\n",
      "0.9121557454890787\n",
      "-----------------\n"
     ]
    }
   ],
   "source": [
    "bestParams={}\n",
    "\n",
    "for i, param in enumerate(paramList):\n",
    "    classifierName=classifierList[i].get_params()[\"steps\"][2][0]\n",
    "    classifierMethod=classifierList[i].get_params()[\"steps\"][2][1]\n",
    "    print(classifierMethod)\n",
    "    param_grid, score_grid = bestParam(X_train, y_train, classifierList[i], param)\n",
    "    print(param_grid)\n",
    "    print(score_grid)\n",
    "    bestParams[classifierMethod]=(classifierName, param_grid, score_grid)\n",
    "    print(\"-----------------\")"
   ]
  },
  {
   "cell_type": "code",
   "execution_count": 20,
   "id": "32303a72",
   "metadata": {},
   "outputs": [
    {
     "data": {
      "text/plain": [
       "{KNeighborsClassifier(): ('knn',\n",
       "  {'knn__metric': 'euclidean', 'knn__n_neighbors': 1},\n",
       "  0.8380816714150048),\n",
       " SVC(): ('svc',\n",
       "  {'svc__degree': 1, 'svc__gamma': 'scale', 'svc__kernel': 'linear'},\n",
       "  0.8879392212725546),\n",
       " DecisionTreeClassifier(): ('decisionTree',\n",
       "  {'decisionTree__criterion': 'gini',\n",
       "   'decisionTree__max_features': None,\n",
       "   'decisionTree__random_state': 42,\n",
       "   'decisionTree__splitter': 'best'},\n",
       "  0.6253561253561254),\n",
       " RandomForestClassifier(): ('randomForest',\n",
       "  {'randomForest__criterion': 'gini',\n",
       "   'randomForest__max_features': 'sqrt',\n",
       "   'randomForest__random_state': 42},\n",
       "  0.8266856600189935),\n",
       " GradientBoostingClassifier(): ('gradientBoost',\n",
       "  {'gradientBoost__criterion': 'friedman_mse',\n",
       "   'gradientBoost__loss': 'deviance',\n",
       "   'gradientBoost__max_features': 'sqrt',\n",
       "   'gradientBoost__random_state': 42},\n",
       "  0.7630579297245964),\n",
       " MLPClassifier(): ('mlp',\n",
       "  {'mlp__activation': 'identity',\n",
       "   'mlp__hidden_layer_sizes': (3,),\n",
       "   'mlp__learning_rate': 'constant',\n",
       "   'mlp__max_iter': 1000,\n",
       "   'mlp__random_state': 42,\n",
       "   'mlp__solver': 'adam'},\n",
       "  0.8499525166191834),\n",
       " XGBClassifier(base_score=None, booster=None, colsample_bylevel=None,\n",
       "               colsample_bynode=None, colsample_bytree=None,\n",
       "               enable_categorical=False, gamma=None, gpu_id=None,\n",
       "               importance_type=None, interaction_constraints=None,\n",
       "               learning_rate=None, max_delta_step=None, max_depth=None,\n",
       "               min_child_weight=None, missing=nan, monotone_constraints=None,\n",
       "               n_estimators=100, n_jobs=None, num_parallel_tree=None,\n",
       "               predictor=None, random_state=None, reg_alpha=None,\n",
       "               reg_lambda=None, scale_pos_weight=None, subsample=None,\n",
       "               tree_method=None, validate_parameters=None, verbosity=None): ('xgb',\n",
       "  {'xgb__booster': 'gblinear',\n",
       "   'xgb__eval_metric': 'mlogloss',\n",
       "   'xgb__n_estimators': 10,\n",
       "   'xgb__tree_method': 'auto',\n",
       "   'xgb__use_label_encoder': False},\n",
       "  0.9121557454890787)}"
      ]
     },
     "execution_count": 20,
     "metadata": {},
     "output_type": "execute_result"
    }
   ],
   "source": [
    "bestParams"
   ]
  },
  {
   "cell_type": "code",
   "execution_count": 24,
   "id": "90dd12ba",
   "metadata": {},
   "outputs": [
    {
     "data": {
      "text/plain": [
       "XGBClassifier(base_score=0.5, booster='gblinear', colsample_bylevel=None,\n",
       "              colsample_bynode=None, colsample_bytree=None,\n",
       "              enable_categorical=False, eval_metric='mlogloss', gamma=None,\n",
       "              gpu_id=-1, importance_type=None, interaction_constraints=None,\n",
       "              learning_rate=0.5, max_delta_step=None, max_depth=None,\n",
       "              min_child_weight=None, missing=nan, monotone_constraints=None,\n",
       "              n_estimators=10, n_jobs=4, num_parallel_tree=None,\n",
       "              objective='multi:softprob', predictor=None, random_state=0,\n",
       "              reg_alpha=0, reg_lambda=0, scale_pos_weight=None, subsample=None,\n",
       "              tree_method='auto', use_label_encoder=False,\n",
       "              validate_parameters=1, ...)"
      ]
     },
     "execution_count": 24,
     "metadata": {},
     "output_type": "execute_result"
    }
   ],
   "source": [
    "max(bestParams, key=lambda x:bestParams[x][2])"
   ]
  },
  {
   "cell_type": "markdown",
   "id": "7b101da9",
   "metadata": {},
   "source": [
    "##### 4. Sélection du meilleur modèle"
   ]
  },
  {
   "cell_type": "code",
   "execution_count": 28,
   "id": "61fff19b",
   "metadata": {},
   "outputs": [
    {
     "name": "stdout",
     "output_type": "stream",
     "text": [
      "XGBClassifier(base_score=0.5, booster='gblinear', colsample_bylevel=None,\n",
      "              colsample_bynode=None, colsample_bytree=None,\n",
      "              enable_categorical=False, eval_metric='mlogloss', gamma=None,\n",
      "              gpu_id=-1, importance_type=None, interaction_constraints=None,\n",
      "              learning_rate=0.5, max_delta_step=None, max_depth=None,\n",
      "              min_child_weight=None, missing=nan, monotone_constraints=None,\n",
      "              n_estimators=10, n_jobs=4, num_parallel_tree=None,\n",
      "              objective='multi:softprob', predictor=None, random_state=0,\n",
      "              reg_alpha=0, reg_lambda=0, scale_pos_weight=None, subsample=None,\n",
      "              tree_method='auto', use_label_encoder=False,\n",
      "              validate_parameters=1, ...)\n",
      "xgb\n",
      "{'xgb__booster': 'gblinear', 'xgb__eval_metric': 'mlogloss', 'xgb__n_estimators': 10, 'xgb__tree_method': 'auto', 'xgb__use_label_encoder': False}\n",
      "[23:27:44] WARNING: C:/Users/Administrator/workspace/xgboost-win64_release_1.5.1/src/learner.cc:576: \n",
      "Parameters: { \"tree_method\" } might not be used.\n",
      "\n",
      "  This could be a false alarm, with some parameters getting used by language bindings but\n",
      "  then being mistakenly passed down to XGBoost core, or some parameter actually being used\n",
      "  but getting flagged wrongly here. Please open an issue if you find any such cases.\n",
      "\n",
      "\n",
      "[23:27:44] WARNING: C:/Users/Administrator/workspace/xgboost-win64_release_1.5.1/src/learner.cc:576: \n",
      "Parameters: { \"tree_method\" } might not be used.\n",
      "\n",
      "  This could be a false alarm, with some parameters getting used by language bindings but\n",
      "  then being mistakenly passed down to XGBoost core, or some parameter actually being used\n",
      "  but getting flagged wrongly here. Please open an issue if you find any such cases.\n",
      "\n",
      "\n"
     ]
    }
   ],
   "source": [
    "bestModel=max(bestParams, key=lambda x:bestParams[x][2])\n",
    "bestModelName = bestParams[bestModel][0]\n",
    "bestParamPipe = bestParams[bestModel][1]\n",
    "bestScore = bestParams[bestModel][2]\n",
    "print(bestModel)\n",
    "print(bestModelName)\n",
    "print(bestParamPipe)\n",
    "bestPipe = Pipeline([   ('minmax', MinMaxScaler()),\n",
    "                        (\"scaler\", StandardScaler()), \n",
    "                        (bestModelName, bestModel)])\n",
    "bestPipe = bestPipe.set_params(**bestParamPipe)\n",
    "bestPipe = bestPipe.fit(X_train, y_train)"
   ]
  },
  {
   "cell_type": "markdown",
   "id": "94c33530",
   "metadata": {},
   "source": [
    "##### 5. Vérification du modèle"
   ]
  },
  {
   "cell_type": "code",
   "execution_count": 25,
   "id": "79cdbb90",
   "metadata": {},
   "outputs": [
    {
     "name": "stdout",
     "output_type": "stream",
     "text": [
      "0.9\n"
     ]
    },
    {
     "data": {
      "image/png": "[encoded data removed]",
      "text/plain": [
       "<Figure size 432x288 with 2 Axes>"
      ]
     },
     "metadata": {
      "needs_background": "light"
     },
     "output_type": "display_data"
    },
    {
     "name": "stdout",
     "output_type": "stream",
     "text": [
      "              precision    recall  f1-score   support\n",
      "\n",
      "         0.0       1.00      0.83      0.91         6\n",
      "         1.0       1.00      1.00      1.00         1\n",
      "         2.0       1.00      1.00      1.00         2\n",
      "         3.0       0.80      1.00      0.89         4\n",
      "         4.0       1.00      1.00      1.00         2\n",
      "         5.0       0.50      1.00      0.67         1\n",
      "         6.0       1.00      1.00      1.00         1\n",
      "         7.0       1.00      1.00      1.00         1\n",
      "         8.0       0.00      0.00      0.00         1\n",
      "         9.0       1.00      1.00      1.00         1\n",
      "\n",
      "    accuracy                           0.90        20\n",
      "   macro avg       0.83      0.88      0.85        20\n",
      "weighted avg       0.89      0.90      0.88        20\n",
      "\n"
     ]
    }
   ],
   "source": [
    "y_pred = bestPipe.predict(X_test)\n",
    "\n",
    "predScore = accuracy_score(y_test, y_pred)\n",
    "print(predScore)\n",
    "\n",
    "predConfusionMatrix = ConfusionMatrixDisplay.from_predictions(y_test, y_pred)\n",
    "plt.show()\n",
    "\n",
    "predRapport = classification_report(y_test, y_pred)\n",
    "print(predRapport)"
   ]
  },
  {
   "cell_type": "markdown",
   "id": "882ac247",
   "metadata": {},
   "source": [
    "##### 4. Enregistrement du meilleur estimateur"
   ]
  },
  {
   "cell_type": "code",
   "execution_count": 31,
   "id": "dec2df08",
   "metadata": {},
   "outputs": [
    {
     "data": {
      "text/plain": [
       "['Digits_Recognition_Project/Models/.back/20220320_2330_XGBClassifier_0.91.pkl']"
      ]
     },
     "execution_count": 31,
     "metadata": {},
     "output_type": "execute_result"
    }
   ],
   "source": [
    "now = datetime.now()\n",
    "dt_string = now.strftime(\"%Y%m%d_%H%M\")\n",
    "methodName = str(bestModel).split('(')[0]\n",
    "filename = f\"Digits_Recognition_Project/Models/.back/{dt_string}_{methodName}_{bestScore:.2f}.pkl\"\n",
    "joblib.dump(bestPipe, filename)"
   ]
  },
  {
   "cell_type": "markdown",
   "id": "f4ded330",
   "metadata": {},
   "source": [
    "# Application en Temps Réel"
   ]
  },
  {
   "cell_type": "markdown",
   "id": "2e6615a3",
   "metadata": {},
   "source": [
    "Après avoir créé le modèle avec la cellule ci-dessus, déplacez le modèle dans le dossier ```Digits_Recognition_Project/Models/``` et modifiez le chemin du modèle à charger ci-dessous en conséquence :"
   ]
  },
  {
   "cell_type": "code",
   "execution_count": 34,
   "id": "ed0b181b",
   "metadata": {},
   "outputs": [],
   "source": [
    "from Tools.tools import rec\n",
    "model = joblib.load('Digits_Recognition_Project/Models/20220320_2330_XGBClassifier_0.91.pkl')"
   ]
  },
  {
   "cell_type": "code",
   "execution_count": 40,
   "id": "aa20b46c",
   "metadata": {},
   "outputs": [
    {
     "name": "stdout",
     "output_type": "stream",
     "text": [
      "Attention, l'enregistrement commence dans :\n",
      "5\n",
      "4\n",
      "3\n",
      "2\n",
      "1\n",
      "0\n",
      "Prononcer votre Digit : \n"
     ]
    },
    {
     "name": "stderr",
     "output_type": "stream",
     "text": [
      "WARNING:root:frame length (1200) is greater than FFT size (512), frame will be truncated. Increase NFFT to avoid.\n"
     ]
    },
    {
     "name": "stdout",
     "output_type": "stream",
     "text": [
      "------------------\n",
      "Digit :  [0]\n",
      "------------------\n"
     ]
    }
   ],
   "source": [
    "rec(model)"
   ]
  }
 ],
 "metadata": {
  "kernelspec": {
   "display_name": "Python 3 (ipykernel)",
   "language": "python",
   "name": "python3"
  },
  "language_info": {
   "codemirror_mode": {
    "name": "ipython",
    "version": 3
   },
   "file_extension": ".py",
   "mimetype": "text/x-python",
   "name": "python",
   "nbconvert_exporter": "python",
   "pygments_lexer": "ipython3",
   "version": "3.10.0"
  }
 },
 "nbformat": 4,
 "nbformat_minor": 5
}
